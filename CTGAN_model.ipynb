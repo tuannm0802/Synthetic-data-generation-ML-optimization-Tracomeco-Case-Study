{
 "cells": [
  {
   "cell_type": "code",
   "execution_count": 1,
   "metadata": {},
   "outputs": [],
   "source": [
    "#import libraries\n",
    "from ctgan import CTGAN\n",
    "\n",
    "import pandas as pd\n",
    "import numpy as np\n",
    "import matplotlib.pyplot as plt\n",
    "import seaborn as sns"
   ]
  },
  {
   "cell_type": "code",
   "execution_count": 2,
   "metadata": {},
   "outputs": [],
   "source": [
    "#set feature_df for real data (preprocessed_df.csv)\n",
    "feature_df = pd.read_csv(\"data/preprocessed_df.csv\")"
   ]
  },
  {
   "cell_type": "markdown",
   "metadata": {},
   "source": [
    "### Generate data through CTGAN"
   ]
  },
  {
   "cell_type": "code",
   "execution_count": null,
   "metadata": {},
   "outputs": [],
   "source": [
    "# Gererate synthetic data through features and label\n",
    "discrete_columns = [\n",
    "    'Delivery_lead_time',\n",
    "    'Distance_from_supplier',\n",
    "    'Quantity',  \n",
    "    'Confirmation_lead_time',\n",
    "    'Gross_weight',\n",
    "    'China',\t\n",
    "    'Korea',\n",
    "    'Container_20',\n",
    "    'Container_40',\n",
    "    'Total_containers',\n",
    "    'Container_ratio',\n",
    "    'Only_container_40',\n",
    "    'Delivery_date_lateness',\t\n",
    "    'Deli_date_lateness_late',\t\t\n",
    "    'Deli_lead_time_late',\t\n",
    "    'Confirm_late',\t\n",
    "    'Estimated_deli_time',\t\n",
    "    'Weekend_Count',\t\n",
    "    'Weekday_Count',\t\n",
    "    'Holiday_Count',\t\n",
    "    'Covid',\n",
    "    'Label',\n",
    "]\n",
    "\n",
    "#Hyperparameter for ctgan \n",
    "#Epoch = 300 : the model will go through the full dataset 300 times during training. \n",
    "##Each epoch allows the model to learn and adjust its parameters iteratively, making it more accurate at generating synthetic data.\n",
    "#batch size = 100: number of data samples that are processed before the model's parameters are updated\n",
    "##The model processes 100 samples at a time before making adjustments.\n",
    "ctgan = CTGAN(epochs = 950, batch_size = 90)\n",
    "#\"fit\" the ctgan model on the real dataset (feature_df)\n",
    "ctgan.fit(feature_df.loc[:, discrete_columns], discrete_columns)\n",
    "#adjust number of samples generated\n",
    "synthetic_data = ctgan.sample(10000)\n",
    "#set path output and save to file destination\n",
    "output_path = 'data/synthetic_data.csv'\n",
    "synthetic_data.to_csv(output_path, index=False)"
   ]
  },
  {
   "cell_type": "code",
   "execution_count": 5,
   "metadata": {},
   "outputs": [],
   "source": [
    "synthetic_data = pd.read_csv(\"data/synthetic_data.csv\")"
   ]
  }
 ],
 "metadata": {
  "kernelspec": {
   "display_name": "base",
   "language": "python",
   "name": "python3"
  },
  "language_info": {
   "codemirror_mode": {
    "name": "ipython",
    "version": 3
   },
   "file_extension": ".py",
   "mimetype": "text/x-python",
   "name": "python",
   "nbconvert_exporter": "python",
   "pygments_lexer": "ipython3",
   "version": "3.12.4"
  }
 },
 "nbformat": 4,
 "nbformat_minor": 2
}
